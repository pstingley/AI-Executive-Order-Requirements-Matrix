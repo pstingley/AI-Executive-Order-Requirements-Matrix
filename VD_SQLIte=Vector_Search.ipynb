{
  "nbformat": 4,
  "nbformat_minor": 0,
  "metadata": {
    "colab": {
      "provenance": [],
      "authorship_tag": "ABX9TyMIexZAEvjp0h7YwAF1Oiv4",
      "include_colab_link": true
    },
    "kernelspec": {
      "name": "python3",
      "display_name": "Python 3"
    },
    "language_info": {
      "name": "python"
    }
  },
  "cells": [
    {
      "cell_type": "markdown",
      "metadata": {
        "id": "view-in-github",
        "colab_type": "text"
      },
      "source": [
        "<a href=\"https://colab.research.google.com/github/pstingley/AI-Executive-Order-Requirements-Matrix/blob/main/VD_SQLIte%3DVector_Search.ipynb\" target=\"_parent\"><img src=\"https://colab.research.google.com/assets/colab-badge.svg\" alt=\"Open In Colab\"/></a>"
      ]
    },
    {
      "cell_type": "code",
      "execution_count": 4,
      "metadata": {
        "id": "aw5I-cMb_iAJ"
      },
      "outputs": [],
      "source": [
        "import sqlite3\n",
        "\n",
        "# create a connection to sqlite\n",
        "conn = sqlite3.connect('sample.db')"
      ]
    },
    {
      "cell_type": "code",
      "source": [
        "# Create a cursor to help us execute the SQL commands\n",
        "cursor = conn.cursor()"
      ],
      "metadata": {
        "id": "X9h43cwbCXXv"
      },
      "execution_count": 9,
      "outputs": []
    },
    {
      "cell_type": "code",
      "source": [
        "# Create a table\n",
        "# stocks : stock_code, stock_name\n",
        "\n",
        "cursor.execute(\n",
        "\"\"\"\n",
        "CREATE TABLE IF NOT EXISTS stocks (\n",
        "  stock_code INTEGER PRIMARY KEY,\n",
        "  stock_name TEXT NOT NULL\n",
        ")\n",
        "\"\"\"\n",
        ")"
      ],
      "metadata": {
        "colab": {
          "base_uri": "https://localhost:8080/"
        },
        "id": "tG_jLvc_CrZo",
        "outputId": "420b4ade-eb6d-4642-ea12-6188889e2b42"
      },
      "execution_count": 12,
      "outputs": [
        {
          "output_type": "execute_result",
          "data": {
            "text/plain": [
              "<sqlite3.Cursor at 0x7cadc697e9c0>"
            ]
          },
          "metadata": {},
          "execution_count": 12
        }
      ]
    },
    {
      "cell_type": "code",
      "source": [
        "# insert some data\n",
        "cursor.execute(\n",
        "    \"INSERT INTO stocks (stock_name) VALUES (?)\", ('TESLA',)\n",
        ")"
      ],
      "metadata": {
        "colab": {
          "base_uri": "https://localhost:8080/"
        },
        "id": "ex9EiViLEDXi",
        "outputId": "fb579468-71b2-4572-ac32-de0224a7df10"
      },
      "execution_count": 14,
      "outputs": [
        {
          "output_type": "execute_result",
          "data": {
            "text/plain": [
              "<sqlite3.Cursor at 0x7cadc697e9c0>"
            ]
          },
          "metadata": {},
          "execution_count": 14
        }
      ]
    },
    {
      "cell_type": "code",
      "source": [
        "# insert some data\n",
        "cursor.execute(\n",
        "    \"INSERT INTO stocks (stock_name) VALUES (?)\", ('Microsoft',)\n",
        ")"
      ],
      "metadata": {
        "colab": {
          "base_uri": "https://localhost:8080/"
        },
        "outputId": "818f93f0-5e3a-4b99-dd4a-5dfa149bf4d3",
        "id": "Q5VpafUXFB2I"
      },
      "execution_count": 15,
      "outputs": [
        {
          "output_type": "execute_result",
          "data": {
            "text/plain": [
              "<sqlite3.Cursor at 0x7cadc697e9c0>"
            ]
          },
          "metadata": {},
          "execution_count": 15
        }
      ]
    },
    {
      "cell_type": "code",
      "source": [
        "# select records\n",
        "cursor.execute('SELECT * FROM stocks')"
      ],
      "metadata": {
        "colab": {
          "base_uri": "https://localhost:8080/"
        },
        "id": "yR8s1whJFAdr",
        "outputId": "51f4ea2a-bf0a-4182-d74f-6fb416f60032"
      },
      "execution_count": 17,
      "outputs": [
        {
          "output_type": "execute_result",
          "data": {
            "text/plain": [
              "<sqlite3.Cursor at 0x7cadc697e9c0>"
            ]
          },
          "metadata": {},
          "execution_count": 17
        }
      ]
    },
    {
      "cell_type": "code",
      "source": [
        "rows = cursor.fetchall()\n",
        "rows"
      ],
      "metadata": {
        "colab": {
          "base_uri": "https://localhost:8080/"
        },
        "id": "sYveWW9YGGe1",
        "outputId": "cbd62f7b-5d1a-4b3b-bc8a-ba2553c69542"
      },
      "execution_count": 18,
      "outputs": [
        {
          "output_type": "execute_result",
          "data": {
            "text/plain": [
              "[(1, 'TESLA'), (2, 'Microsoft')]"
            ]
          },
          "metadata": {},
          "execution_count": 18
        }
      ]
    },
    {
      "cell_type": "code",
      "source": [
        "conn.commit()\n"
      ],
      "metadata": {
        "id": "oiRwi9d3GT4V"
      },
      "execution_count": 19,
      "outputs": []
    },
    {
      "cell_type": "code",
      "source": [
        "conn.close()"
      ],
      "metadata": {
        "id": "LFjAMCMOGhnD"
      },
      "execution_count": 20,
      "outputs": []
    }
  ]
}